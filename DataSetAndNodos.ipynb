{
  "nbformat": 4,
  "nbformat_minor": 0,
  "metadata": {
    "colab": {
      "name": "Copia de DataSet.ipynb",
      "provenance": [],
      "collapsed_sections": [],
      "include_colab_link": true
    },
    "kernelspec": {
      "name": "python3",
      "display_name": "Python 3"
    },
    "language_info": {
      "name": "python"
    }
  },
  "cells": [
    {
      "cell_type": "markdown",
      "metadata": {
        "id": "view-in-github",
        "colab_type": "text"
      },
      "source": [
        "<a href=\"https://colab.research.google.com/github/JorgeKawamuraS/Aplicaciones_Web_Front_End_Petsafe/blob/main/DataSetAndNodos.ipynb\" target=\"_parent\"><img src=\"https://colab.research.google.com/assets/colab-badge.svg\" alt=\"Open In Colab\"/></a>"
      ]
    },
    {
      "cell_type": "code",
      "metadata": {
        "colab": {
          "base_uri": "https://localhost:8080/"
        },
        "id": "MXeAFwOWirI4",
        "outputId": "97432f0d-6ecd-4685-8573-23c12ca1d242"
      },
      "source": [
        "import numpy as np\n",
        "import numpy.random as npr\n",
        "\n",
        "n = npr.randint(1000,1500)\n",
        "m = npr.randint(50,100)\n",
        "nFilas=500\n",
        "nColumnas=500\n",
        "array1 = npr.randint(0, nFilas, (n, 2), dtype=np.int)\n",
        "array2 = npr.randint(0,nColumnas, (m, 2), dtype=np.int)\n",
        "print(n,m)"
      ],
      "execution_count": 126,
      "outputs": [
        {
          "output_type": "stream",
          "name": "stdout",
          "text": [
            "1459 55\n"
          ]
        }
      ]
    },
    {
      "cell_type": "code",
      "metadata": {
        "id": "7pHWwUB4UBL0"
      },
      "source": [
        "def DeleteEqualsAndSort(array):\n",
        "  points = list()\n",
        "  for i in range(len(array)):\n",
        "    toAdd = (array[i][0],array[i][1])\n",
        "    points.append(toAdd)\n",
        "  \n",
        "  for i in range(len(points)):\n",
        "    j=i\n",
        "    while j < len(points)-1:\n",
        "      j+=1\n",
        "      if points[i][1]>points[j][1]:\n",
        "        points[i],points[j]=points[j],points[i]\n",
        "      elif points[i][1]==points[j][1]:\n",
        "        if points[i][0]>points[j][0]:\n",
        "          points[i],points[j]=points[j],points[i]\n",
        "\n",
        "  indices = list()\n",
        "  for i in range(len(points)):\n",
        "    j=i\n",
        "    while j < (len(points)-1):\n",
        "      j+=1\n",
        "      if points[i][1]<points[j][1]:\n",
        "        break\n",
        "      if points[i][0]==points[j][0] and points[i][1]==points[j][1] and i != j:\n",
        "        points.pop(j)\n",
        "        j-=1\n",
        "\n",
        "  return points"
      ],
      "execution_count": 127,
      "outputs": []
    },
    {
      "cell_type": "code",
      "metadata": {
        "id": "EOIxzHX4u1oX"
      },
      "source": [
        "def DeleteEqualsArrays(entrega, almacenes):\n",
        "  i=0\n",
        "  while i < len(entrega):\n",
        "    j=0\n",
        "    while j < len(almacenes):\n",
        "      if entrega[i][0] == almacenes[j][0] and entrega[i][1] == almacenes[j][1]:\n",
        "        entrega.pop(i)\n",
        "        i-=1\n",
        "      j+=1\n",
        "    i+=1\n",
        "    "
      ],
      "execution_count": 128,
      "outputs": []
    },
    {
      "cell_type": "code",
      "metadata": {
        "id": "6OAaA8y3Ujqs"
      },
      "source": [
        "pointsAlmacenes = list()\n",
        "pointsEntrega = list()\n",
        "pointsEntrega=DeleteEqualsAndSort(array1)\n",
        "pointsAlmacenes=DeleteEqualsAndSort(array2)\n",
        "DeleteEqualsArrays(pointsEntrega,pointsAlmacenes)"
      ],
      "execution_count": 129,
      "outputs": []
    },
    {
      "cell_type": "code",
      "metadata": {
        "id": "zjnu_Gu5ZyJq"
      },
      "source": [
        "def DeleteEqualsInExtraPoints():\n",
        "  i=0\n",
        "  j=0\n",
        "  k=0\n",
        "  nodes = list()\n",
        "  almacen = False\n",
        "  while i < len(extraPoints):\n",
        "    addSomething = False\n",
        "    toAdd=list()\n",
        "    number = extraPoints[i][0]+extraPoints[i][1]*nFilas\n",
        "    #Nodo de Abajo\n",
        "    if number-nFilas>=0:\n",
        "      toAdd.append(number-nFilas)\n",
        "\n",
        "    #Nodo de la Izquierda\n",
        "    if number-1>= (extraPoints[i][1]*nFilas):\n",
        "      toAdd.append(number-1)\n",
        "\n",
        "    #Nodo de la Derecha\n",
        "    if number+1<((extraPoints[i][1]+1)*nFilas):\n",
        "      toAdd.append(number+1)\n",
        "\n",
        "    #Nodo de Arriba\n",
        "    if number+nFilas<(nFilas*nColumnas):\n",
        "      toAdd.append(number+nFilas)\n",
        "\n",
        "    while j < len(pointsEntrega):\n",
        "      if extraPoints[i][0]==pointsEntrega[j][0] and extraPoints[i][1]==pointsEntrega[j][1]:\n",
        "        extraPoints.pop(i)\n",
        "        i-=1\n",
        "        j+=1\n",
        "        toAdd.append(1)\n",
        "        addSomething = True\n",
        "        entrega.append(number)   \n",
        "        break\n",
        "      else:\n",
        "        break\n",
        "    while k < len(pointsAlmacenes):\n",
        "      if extraPoints[i][0]==pointsAlmacenes[k][0] and extraPoints[i][1]==pointsAlmacenes[k][1]:\n",
        "        extraPoints.pop(i)\n",
        "        i-=1\n",
        "        k+=1\n",
        "        toAdd.append(2)\n",
        "        addSomething = True\n",
        "        almacenes.append(number)\n",
        "        break\n",
        "      else:\n",
        "        break\n",
        "    if addSomething == False:\n",
        "      toAdd.append(0)\n",
        "    i+=1\n",
        "    toAdd.append(number)\n",
        "    nodes.append(toAdd)\n",
        "  return nodes\n"
      ],
      "execution_count": 130,
      "outputs": []
    },
    {
      "cell_type": "code",
      "metadata": {
        "id": "ss94gCTIaAJK"
      },
      "source": [
        "extraPoints = list()\n",
        "for i in range(nFilas):\n",
        "  for j in range(nColumnas):\n",
        "    toAdd = (j,i)\n",
        "    extraPoints.append(toAdd)"
      ],
      "execution_count": 131,
      "outputs": []
    },
    {
      "cell_type": "code",
      "metadata": {
        "id": "54ViPPNEbjDK"
      },
      "source": [
        "nodos = list()\n",
        "almacenes = list()\n",
        "entrega = list()\n",
        "nodos = DeleteEqualsInExtraPoints()"
      ],
      "execution_count": 132,
      "outputs": []
    },
    {
      "cell_type": "code",
      "metadata": {
        "colab": {
          "base_uri": "https://localhost:8080/"
        },
        "id": "xJeHbfOGFEXo",
        "outputId": "5fdb4e43-5abf-4294-c5d1-55dad87ea9b4"
      },
      "source": [
        "print(len(pointsEntrega))\n",
        "print(len(pointsAlmacenes))"
      ],
      "execution_count": 133,
      "outputs": [
        {
          "output_type": "stream",
          "name": "stdout",
          "text": [
            "1456\n",
            "55\n"
          ]
        }
      ]
    },
    {
      "cell_type": "code",
      "metadata": {
        "id": "S1t0E3wWcJbj"
      },
      "source": [
        "np.savetxt('pointsEntrega.csv', pointsEntrega, fmt=\"%i\", delimiter=\",\", header=\"x,y\", comments=\"\")\n",
        "np.savetxt('pointsAlmacenes.csv', pointsAlmacenes, fmt=\"%i\", delimiter=\",\", header=\"x,y\", comments=\"\")\n",
        "np.savetxt('extraPoints.csv', extraPoints, fmt=\"%i\", delimiter=\",\", header=\"x,y\", comments=\"\")"
      ],
      "execution_count": 134,
      "outputs": []
    },
    {
      "cell_type": "code",
      "metadata": {
        "colab": {
          "base_uri": "https://localhost:8080/",
          "height": 483
        },
        "id": "ixdyuiLSvsCz",
        "outputId": "f73d46bf-5afd-45db-d3af-bc1e528a4c86"
      },
      "source": [
        "import matplotlib.pyplot as plt\n",
        "\n",
        "x = list()\n",
        "x2 = list()\n",
        "x3 = list()\n",
        "y = list()\n",
        "y2 = list()\n",
        "y3 = list()\n",
        "fig, ax = plt.subplots(figsize=(8,8))\n",
        "#plt.figure(figsize=(1,1))\n",
        "for i in range(len(pointsEntrega)):\n",
        "  x.append(pointsEntrega[i][0])\n",
        "  y.append(pointsEntrega[i][1])\n",
        "  \n",
        "for i in range(len(pointsAlmacenes)):\n",
        "  x2.append(pointsAlmacenes[i][0])\n",
        "  y2.append(pointsAlmacenes[i][1])\n",
        "  \n",
        "for i in range(len(extraPoints)):\n",
        "  x3.append(extraPoints[i][0])\n",
        "  y3.append(extraPoints[i][1])\n",
        "\n",
        "ax.scatter(x3,y3,color='green',s=1)\n",
        "ax.scatter(x,y,color='blue',s=1)\n",
        "ax.scatter(x2,y2,color='red',s=1)\n",
        "plt.show()"
      ],
      "execution_count": 135,
      "outputs": [
        {
          "output_type": "display_data",
          "data": {
            "image/png": "[encoded data removed]",
            "text/plain": [
              "<Figure size 576x576 with 1 Axes>"
            ]
          },
          "metadata": {
            "needs_background": "light"
          }
        }
      ]
    },
    {
      "cell_type": "code",
      "metadata": {
        "id": "Dsm3dM2RbQGH"
      },
      "source": [
        "def bfs(G, s):\n",
        "  n = len(G)\n",
        "  visited = [False]*n\n",
        "  parent = [None]*n\n",
        "  queue = [s]\n",
        "  visited[s] = True\n",
        "  contador = 0\n",
        "\n",
        "  while queue:\n",
        "    u = queue.pop(0)\n",
        "    for v in range(len(G[u])):\n",
        "      if v<(len(G[u])-2) and not visited[G[u][v]]:\n",
        "        visited[G[u][v]] = True\n",
        "        parent[G[u][v]] = u\n",
        "        a = G[u][v] \n",
        "        if G[a][-2] == 1:\n",
        "          contador +=1\n",
        "        queue.append(G[u][v])\n",
        "      if contador== cantidadPuntosEntrega:\n",
        "        return parent\n",
        "\n",
        "  return parent"
      ],
      "execution_count": 136,
      "outputs": []
    },
    {
      "cell_type": "code",
      "metadata": {
        "colab": {
          "base_uri": "https://localhost:8080/"
        },
        "id": "hkAqZSxueBCE",
        "outputId": "0ca615eb-c74a-4cba-e1bb-29226846abfa"
      },
      "source": [
        "#Aplicar Dijkstra (BFS puesto que no hay pesos) de cada almacen a todos los puntos de entrega\n",
        "cantidadPuntosEntrega=len(entrega)\n",
        "for i in almacenes[:10]:\n",
        "  print(\"Desde el nodo:\",i)\n",
        "  bfs(nodos,i)"
      ],
      "execution_count": null,
      "outputs": [
        {
          "output_type": "stream",
          "name": "stdout",
          "text": [
            "Desde el nodo: 3265\n",
            "Desde el nodo: 8272\n",
            "Desde el nodo: 12516\n",
            "Desde el nodo: 67621\n",
            "Desde el nodo: 68710\n",
            "Desde el nodo: 76707\n",
            "Desde el nodo: 80662\n",
            "Desde el nodo: 81249\n",
            "Desde el nodo: 88723\n",
            "Desde el nodo: 107537\n"
          ]
        }
      ]
    },
    {
      "cell_type": "code",
      "metadata": {
        "id": "rKvsJpTEFd1d"
      },
      "source": [
        "def DBP(a,b):\n",
        "  x1, y1=a\n",
        "  x2, y2=b\n",
        "  return abs(x1-x2)+ abs(y1-y2)"
      ],
      "execution_count": 137,
      "outputs": []
    },
    {
      "cell_type": "code",
      "metadata": {
        "id": "aJz72mSKGX1j"
      },
      "source": [
        "group = [-1]*len(pointsEntrega)\n",
        "group2 = [-1]*len(extraPoints)\n",
        "\n",
        "for i in range(len(pointsEntrega)):\n",
        "  m=0\n",
        "  d = DBP(pointsEntrega[i],pointsAlmacenes[0])\n",
        "  for j in range(len(pointsAlmacenes)):\n",
        "    d2 = DBP(pointsEntrega[i],pointsAlmacenes[j])\n",
        "    if d2 <d:\n",
        "      d = d2\n",
        "      m = j\n",
        "  group[i]=m\n",
        "\n",
        "for i in range(len(extraPoints)):\n",
        "  m=0\n",
        "  d = DBP(extraPoints[i],pointsAlmacenes[0])\n",
        "  for j in range(len(pointsAlmacenes)):\n",
        "    d2 = DBP(extraPoints[i],pointsAlmacenes[j])\n",
        "    if d2 <d:\n",
        "      d = d2\n",
        "      m = j\n",
        "  group2[i]=m"
      ],
      "execution_count": 138,
      "outputs": []
    },
    {
      "cell_type": "code",
      "metadata": {
        "id": "soZ8XzJnXltI"
      },
      "source": [
        "nodesGroups = list()\n",
        "for i in range(len(pointsAlmacenes)):\n",
        "  toAdd=list()\n",
        "  almacen = pointsAlmacenes[i][0]+pointsAlmacenes[i][0]*nFilas\n",
        "  toAdd.append(nodos[almacen-1])\n",
        "  for j in range(len(group)):\n",
        "    if group[j]==i:\n",
        "      entrega = pointsEntrega[j][0]+pointsEntrega[j][1]*nFilas\n",
        "      toAdd.append(nodos[entrega-1])\n",
        "  for j in range(len(group2)):\n",
        "    if group2[j]==i:\n",
        "      entrega = extraPoints[j][0]+extraPoints[j][1]*nFilas\n",
        "      toAdd.append(nodos[entrega-1])\n",
        "  nodesGroups.append(toAdd)\n"
      ],
      "execution_count": 140,
      "outputs": []
    },
    {
      "cell_type": "code",
      "metadata": {
        "id": "lrbKS-wAopQb"
      },
      "source": [
        "groupSelected = list()\n",
        "for i in nodesGroups:\n",
        "  if len(groupSelected)==0:\n",
        "    groupSelected=i\n",
        "  else:\n",
        "    if len(groupSelected)>len(i):\n",
        "      groupSelected=i"
      ],
      "execution_count": 141,
      "outputs": []
    },
    {
      "cell_type": "code",
      "metadata": {
        "id": "fdOTJxAOb2hd"
      },
      "source": [
        "for i in range(len(groupSelected)):\n",
        "  j=i\n",
        "  nToCompare =groupSelected[i][-1]\n",
        "  while j<len(groupSelected)-1:\n",
        "    j+=1\n",
        "    mToCompare =groupSelected[j][-1]\n",
        "    if n<m:\n",
        "      groupSelected[i],groupSelected[j]=groupSelected[j],groupSelected[i]\n"
      ],
      "execution_count": 144,
      "outputs": []
    },
    {
      "cell_type": "code",
      "metadata": {
        "id": "_hvAo7REthIe"
      },
      "source": [
        "toReplaced = 0\n",
        "for i in range(len(groupSelected)):\n",
        "  toReplaced=groupSelected[i][-1]\n",
        "  for j in range(len(groupSelected)):\n",
        "    for k in range(len(groupSelected[j])):\n",
        "      if (k==len(groupSelected[j])-2):\n",
        "        break\n",
        "      else:\n",
        "        if(groupSelected[j][k]==toReplaced):\n",
        "          groupSelected[j][k]=i\n"
      ],
      "execution_count": 146,
      "outputs": []
    },
    {
      "cell_type": "code",
      "metadata": {
        "id": "vuPIvLdVjCDY"
      },
      "source": [
        "for i in range(len(groupSelected)):\n",
        "  j=0\n",
        "  while j <len(groupSelected[i]):\n",
        "    if j==len(groupSelected[i])-2:\n",
        "      break\n",
        "    else:\n",
        "      if groupSelected[i][j]>=len(groupSelected):\n",
        "        del groupSelected[i][j]\n",
        "        j-=1\n",
        "    j+=1"
      ],
      "execution_count": 148,
      "outputs": []
    },
    {
      "cell_type": "code",
      "metadata": {
        "id": "7HsRje5daZdM"
      },
      "source": [
        "def bfsForGroups(G, s,pos):\n",
        "  n = len(G)\n",
        "  visited = [False]*n\n",
        "  parent = [None]*n\n",
        "  queue = [pos]\n",
        "  visited[pos] = True\n",
        "  contador = 0\n",
        "\n",
        "  while queue:\n",
        "    u = queue.pop(0)\n",
        "    for v in range(len(G[u])):\n",
        "      if v<(len(G[u])-2) and not visited[G[u][v]]:\n",
        "        visited[G[u][v]] = True\n",
        "        parent[G[u][v]] = u\n",
        "        a = G[u][v] \n",
        "        if G[a][-2] == 1:\n",
        "          contador +=1\n",
        "        queue.append(G[u][v])\n",
        "\n",
        "  return parent"
      ],
      "execution_count": 156,
      "outputs": []
    },
    {
      "cell_type": "code",
      "metadata": {
        "colab": {
          "base_uri": "https://localhost:8080/"
        },
        "id": "uk08L-BokSkg",
        "outputId": "d3b635c4-3cfc-43c0-b481-ed4e272ca976"
      },
      "source": [
        "almacen = list()\n",
        "pos = 0\n",
        "for i in range(len(groupSelected)):\n",
        "  if groupSelected[i][-2]==2:\n",
        "    almacen=groupSelected[i]\n",
        "    pos = i\n",
        "    break\n",
        "print(bfsForGroups(groupSelected,almacen[-1],pos))"
      ],
      "execution_count": 157,
      "outputs": [
        {
          "output_type": "stream",
          "name": "stdout",
          "text": [
            "[1, 3, 4, 6, 7, 8, 644, 10, 11, 12, 16, 17, 18, 19, 22, 23, 24, 25, 26, 27, 28, 31, 32, 33, 34, 35, 36, 37, 38, 39, 42, 43, 44, 45, 46, 47, 48, 49, 50, 51, 52, 67, 68, 69, 70, 71, 72, 73, 74, 75, 76, 77, 78, 79, 80, 81, 82, 83, 84, 85, 86, 87, 88, 89, 90, 91, 93, 94, 95, 96, 97, 98, 99, 100, 101, 102, 103, 104, 105, 106, 107, 108, 109, 110, 111, 112, 113, 114, 115, 116, 117, 118, 120, 121, 122, 123, 124, 125, 97, 98, 99, 100, 101, 102, 103, 104, 105, 106, 107, 108, 109, 110, 111, 112, 113, 114, 115, 116, 117, 120, 121, 122, 123, 124, 125, None, 155, 156, 157, 158, 159, 160, 161, 162, 163, 164, 165, 166, 167, 168, 169, 170, 171, 172, 173, 174, 175, 148, 149, 150, 151, 152, 153, 125, 153, 154, 155, 156, 157, 158, 159, 160, 161, 162, 163, 164, 165, 166, 167, 168, 169, 170, 171, 172, 173, 174, 177, 178, 179, 180, 181, 182, 153, 182, 183, 184, 185, 186, 187, 188, 189, 190, 191, 192, 193, 194, 195, 196, 197, 198, 199, 200, 201, 202, 203, 206, 207, 645, 209, 210, 182, 210, 211, 212, 213, 214, 215, 216, 217, 218, 219, 220, 221, 222, 223, 224, 225, 226, 227, 228, 229, 230, 231, 234, 235, 236, 237, 238, 239, 210, 239, 240, 241, 242, 243, 244, 245, 246, 247, 248, 249, 250, 251, 252, 253, 254, 255, 256, 257, 258, 259, 260, 263, 264, 265, 266, 267, 268, 239, 268, 269, 270, 271, 272, 273, 274, 275, 276, 277, 278, 279, 280, 281, 282, 283, 284, 285, 286, 287, 288, 289, 292, 293, 294, 295, 296, 297, 268, 297, 298, 299, 646, 301, 302, 303, 304, 305, 306, 307, 308, 309, 310, 311, 312, 313, 314, 315, 316, 317, 320, 321, 322, 323, 324, 325, 297, 325, 326, 327, 328, 329, 330, 331, 332, 333, 334, 335, 336, 337, 647, 339, 340, 341, 342, 343, 344, 345, 348, 349, 350, 351, 352, 353, 325, 353, 354, 355, 356, 357, 358, 359, 360, 361, 362, 363, 364, 365, 366, 367, 368, 369, 370, 373, 374, 375, 376, 377, 378, 353, 378, 379, 380, 381, 382, 383, 384, 385, 386, 387, 388, 389, 390, 391, 392, 393, 394, 397, 398, 399, 400, 401, 402, 378, 402, 403, 404, 405, 406, 407, 408, 409, 410, 411, 412, 413, 414, 415, 416, 417, 420, 421, 422, 423, 424, 425, 402, 425, 426, 427, 428, 429, 430, 431, 432, 433, 434, 435, 436, 437, 438, 439, 442, 443, 444, 445, 446, 447, 425, 447, 448, 449, 450, 451, 452, 453, 454, 455, 456, 457, 458, 459, 460, 463, 464, 465, 466, 467, 468, 447, 468, 469, 470, 471, 472, 473, 474, 475, 476, 477, 478, 479, 480, 483, 484, 485, 486, 487, 488, 468, 488, 489, 490, 491, 492, 493, 494, 495, 496, 497, 498, 499, 502, 503, 504, 505, 506, 507, 488, 507, 508, 509, 510, 511, 512, 513, 514, 515, 516, 517, 520, 521, 522, 523, 524, 525, 507, 525, 526, 527, 528, 529, 530, 531, 532, 533, 534, 537, 538, 539, 540, 541, 542, 525, 542, 543, 544, 545, 546, 547, 548, 549, 550, 553, 554, 555, 556, 557, 558, 542, 558, 559, 560, 561, 562, 563, 564, 565, 568, 569, 570, 571, 572, 573, 558, 573, 574, 575, 576, 577, 578, 579, 582, 583, 584, 585, 586, 587, 573, 587, 588, 589, 590, 591, 592, 595, 596, 597, 598, 599, 600, 587, 600, 601, 602, 603, 604, 607, 608, 609, 610, 611, 612, 600, 612, 613, 614, 615, 618, 619, 620, 621, 622, 623, 612, 623, 624, 625, 628, 629, 630, 631, 632, 633, 623, 633, 634, 637, 638, 639, 640, 641, 642, 633, 642, 15, 208, 300, 338, None]\n"
          ]
        }
      ]
    }
  ]
}